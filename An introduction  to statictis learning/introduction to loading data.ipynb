{
  "metadata": {
    "language_info": {
      "codemirror_mode": {
        "name": "python",
        "version": 3
      },
      "file_extension": ".py",
      "mimetype": "text/x-python",
      "name": "python",
      "nbconvert_exporter": "python",
      "pygments_lexer": "ipython3",
      "version": "3.8"
    },
    "kernelspec": {
      "name": "python",
      "display_name": "Python (Pyodide)",
      "language": "python"
    }
  },
  "nbformat_minor": 4,
  "nbformat": 4,
  "cells": [
    {
      "cell_type": "code",
      "source": "# 和numpy 不同 pandas 解决data frame objects 即 包含不同类型的表格\nimport pandas as pd\nimport numpy as np",
      "metadata": {
        "trusted": true
      },
      "execution_count": 6,
      "outputs": []
    },
    {
      "cell_type": "code",
      "source": "Auto = pd.read_csv('Auto.csv')",
      "metadata": {
        "trusted": true
      },
      "execution_count": 7,
      "outputs": []
    },
    {
      "cell_type": "code",
      "source": "Auto",
      "metadata": {
        "trusted": true
      },
      "execution_count": 8,
      "outputs": [
        {
          "execution_count": 8,
          "output_type": "execute_result",
          "data": {
            "text/plain": "      mpg  cylinders  displacement horsepower  weight  acceleration  year  \\\n0    18.0          8         307.0        130    3504          12.0    70   \n1    15.0          8         350.0        165    3693          11.5    70   \n2    18.0          8         318.0        150    3436          11.0    70   \n3    16.0          8         304.0        150    3433          12.0    70   \n4    17.0          8         302.0        140    3449          10.5    70   \n..    ...        ...           ...        ...     ...           ...   ...   \n392  27.0          4         140.0         86    2790          15.6    82   \n393  44.0          4          97.0         52    2130          24.6    82   \n394  32.0          4         135.0         84    2295          11.6    82   \n395  28.0          4         120.0         79    2625          18.6    82   \n396  31.0          4         119.0         82    2720          19.4    82   \n\n     origin                       name  \n0         1  chevrolet chevelle malibu  \n1         1          buick skylark 320  \n2         1         plymouth satellite  \n3         1              amc rebel sst  \n4         1                ford torino  \n..      ...                        ...  \n392       1            ford mustang gl  \n393       2                  vw pickup  \n394       1              dodge rampage  \n395       1                ford ranger  \n396       1                 chevy s-10  \n\n[397 rows x 9 columns]",
            "text/html": "<div>\n<style scoped>\n    .dataframe tbody tr th:only-of-type {\n        vertical-align: middle;\n    }\n\n    .dataframe tbody tr th {\n        vertical-align: top;\n    }\n\n    .dataframe thead th {\n        text-align: right;\n    }\n</style>\n<table border=\"1\" class=\"dataframe\">\n  <thead>\n    <tr style=\"text-align: right;\">\n      <th></th>\n      <th>mpg</th>\n      <th>cylinders</th>\n      <th>displacement</th>\n      <th>horsepower</th>\n      <th>weight</th>\n      <th>acceleration</th>\n      <th>year</th>\n      <th>origin</th>\n      <th>name</th>\n    </tr>\n  </thead>\n  <tbody>\n    <tr>\n      <th>0</th>\n      <td>18.0</td>\n      <td>8</td>\n      <td>307.0</td>\n      <td>130</td>\n      <td>3504</td>\n      <td>12.0</td>\n      <td>70</td>\n      <td>1</td>\n      <td>chevrolet chevelle malibu</td>\n    </tr>\n    <tr>\n      <th>1</th>\n      <td>15.0</td>\n      <td>8</td>\n      <td>350.0</td>\n      <td>165</td>\n      <td>3693</td>\n      <td>11.5</td>\n      <td>70</td>\n      <td>1</td>\n      <td>buick skylark 320</td>\n    </tr>\n    <tr>\n      <th>2</th>\n      <td>18.0</td>\n      <td>8</td>\n      <td>318.0</td>\n      <td>150</td>\n      <td>3436</td>\n      <td>11.0</td>\n      <td>70</td>\n      <td>1</td>\n      <td>plymouth satellite</td>\n    </tr>\n    <tr>\n      <th>3</th>\n      <td>16.0</td>\n      <td>8</td>\n      <td>304.0</td>\n      <td>150</td>\n      <td>3433</td>\n      <td>12.0</td>\n      <td>70</td>\n      <td>1</td>\n      <td>amc rebel sst</td>\n    </tr>\n    <tr>\n      <th>4</th>\n      <td>17.0</td>\n      <td>8</td>\n      <td>302.0</td>\n      <td>140</td>\n      <td>3449</td>\n      <td>10.5</td>\n      <td>70</td>\n      <td>1</td>\n      <td>ford torino</td>\n    </tr>\n    <tr>\n      <th>...</th>\n      <td>...</td>\n      <td>...</td>\n      <td>...</td>\n      <td>...</td>\n      <td>...</td>\n      <td>...</td>\n      <td>...</td>\n      <td>...</td>\n      <td>...</td>\n    </tr>\n    <tr>\n      <th>392</th>\n      <td>27.0</td>\n      <td>4</td>\n      <td>140.0</td>\n      <td>86</td>\n      <td>2790</td>\n      <td>15.6</td>\n      <td>82</td>\n      <td>1</td>\n      <td>ford mustang gl</td>\n    </tr>\n    <tr>\n      <th>393</th>\n      <td>44.0</td>\n      <td>4</td>\n      <td>97.0</td>\n      <td>52</td>\n      <td>2130</td>\n      <td>24.6</td>\n      <td>82</td>\n      <td>2</td>\n      <td>vw pickup</td>\n    </tr>\n    <tr>\n      <th>394</th>\n      <td>32.0</td>\n      <td>4</td>\n      <td>135.0</td>\n      <td>84</td>\n      <td>2295</td>\n      <td>11.6</td>\n      <td>82</td>\n      <td>1</td>\n      <td>dodge rampage</td>\n    </tr>\n    <tr>\n      <th>395</th>\n      <td>28.0</td>\n      <td>4</td>\n      <td>120.0</td>\n      <td>79</td>\n      <td>2625</td>\n      <td>18.6</td>\n      <td>82</td>\n      <td>1</td>\n      <td>ford ranger</td>\n    </tr>\n    <tr>\n      <th>396</th>\n      <td>31.0</td>\n      <td>4</td>\n      <td>119.0</td>\n      <td>82</td>\n      <td>2720</td>\n      <td>19.4</td>\n      <td>82</td>\n      <td>1</td>\n      <td>chevy s-10</td>\n    </tr>\n  </tbody>\n</table>\n<p>397 rows × 9 columns</p>\n</div>"
          },
          "metadata": {}
        }
      ]
    },
    {
      "cell_type": "code",
      "source": "Auto['horsepower']",
      "metadata": {
        "trusted": true
      },
      "execution_count": 4,
      "outputs": [
        {
          "execution_count": 4,
          "output_type": "execute_result",
          "data": {
            "text/plain": "0      130\n1      165\n2      150\n3      150\n4      140\n      ... \n392     86\n393     52\n394     84\n395     79\n396     82\nName: horsepower, Length: 397, dtype: object"
          },
          "metadata": {}
        }
      ]
    },
    {
      "cell_type": "code",
      "source": "np.unique(Auto['horsepower'])",
      "metadata": {
        "trusted": true
      },
      "execution_count": 5,
      "outputs": [
        {
          "execution_count": 5,
          "output_type": "execute_result",
          "data": {
            "text/plain": "array(['100', '102', '103', '105', '107', '108', '110', '112', '113',\n       '115', '116', '120', '122', '125', '129', '130', '132', '133',\n       '135', '137', '138', '139', '140', '142', '145', '148', '149',\n       '150', '152', '153', '155', '158', '160', '165', '167', '170',\n       '175', '180', '190', '193', '198', '200', '208', '210', '215',\n       '220', '225', '230', '46', '48', '49', '52', '53', '54', '58',\n       '60', '61', '62', '63', '64', '65', '66', '67', '68', '69', '70',\n       '71', '72', '74', '75', '76', '77', '78', '79', '80', '81', '82',\n       '83', '84', '85', '86', '87', '88', '89', '90', '91', '92', '93',\n       '94', '95', '96', '97', '98', '?'], dtype=object)"
          },
          "metadata": {}
        }
      ]
    },
    {
      "cell_type": "code",
      "source": "Auto = pd.read_csv('Auto.csv',na_values=['?'])",
      "metadata": {
        "trusted": true
      },
      "execution_count": 9,
      "outputs": []
    },
    {
      "cell_type": "code",
      "source": "Auto['horsepower']",
      "metadata": {
        "trusted": true
      },
      "execution_count": 10,
      "outputs": [
        {
          "execution_count": 10,
          "output_type": "execute_result",
          "data": {
            "text/plain": "0      130.0\n1      165.0\n2      150.0\n3      150.0\n4      140.0\n       ...  \n392     86.0\n393     52.0\n394     84.0\n395     79.0\n396     82.0\nName: horsepower, Length: 397, dtype: float64"
          },
          "metadata": {}
        }
      ]
    },
    {
      "cell_type": "code",
      "source": "np.unique(Auto['horsepower'])",
      "metadata": {
        "trusted": true
      },
      "execution_count": 11,
      "outputs": [
        {
          "execution_count": 11,
          "output_type": "execute_result",
          "data": {
            "text/plain": "array([ 46.,  48.,  49.,  52.,  53.,  54.,  58.,  60.,  61.,  62.,  63.,\n        64.,  65.,  66.,  67.,  68.,  69.,  70.,  71.,  72.,  74.,  75.,\n        76.,  77.,  78.,  79.,  80.,  81.,  82.,  83.,  84.,  85.,  86.,\n        87.,  88.,  89.,  90.,  91.,  92.,  93.,  94.,  95.,  96.,  97.,\n        98., 100., 102., 103., 105., 107., 108., 110., 112., 113., 115.,\n       116., 120., 122., 125., 129., 130., 132., 133., 135., 137., 138.,\n       139., 140., 142., 145., 148., 149., 150., 152., 153., 155., 158.,\n       160., 165., 167., 170., 175., 180., 190., 193., 198., 200., 208.,\n       210., 215., 220., 225., 230.,  nan])"
          },
          "metadata": {}
        }
      ]
    },
    {
      "cell_type": "code",
      "source": "# 可以使用fillna取处理损失值\nAvg_Auto = Auto['horsepower'].mean()\nAuto['horsepower'].fillna(Avg_Auto,inplace = True)\n# 同样可以使用dropna（）将缺失值给丢掉",
      "metadata": {
        "trusted": true
      },
      "execution_count": 14,
      "outputs": []
    },
    {
      "cell_type": "code",
      "source": "np.unique(Auto['horsepower'])",
      "metadata": {
        "trusted": true
      },
      "execution_count": 15,
      "outputs": [
        {
          "execution_count": 15,
          "output_type": "execute_result",
          "data": {
            "text/plain": "array([ 46.        ,  48.        ,  49.        ,  52.        ,\n        53.        ,  54.        ,  58.        ,  60.        ,\n        61.        ,  62.        ,  63.        ,  64.        ,\n        65.        ,  66.        ,  67.        ,  68.        ,\n        69.        ,  70.        ,  71.        ,  72.        ,\n        74.        ,  75.        ,  76.        ,  77.        ,\n        78.        ,  79.        ,  80.        ,  81.        ,\n        82.        ,  83.        ,  84.        ,  85.        ,\n        86.        ,  87.        ,  88.        ,  89.        ,\n        90.        ,  91.        ,  92.        ,  93.        ,\n        94.        ,  95.        ,  96.        ,  97.        ,\n        98.        , 100.        , 102.        , 103.        ,\n       104.46938776, 105.        , 107.        , 108.        ,\n       110.        , 112.        , 113.        , 115.        ,\n       116.        , 120.        , 122.        , 125.        ,\n       129.        , 130.        , 132.        , 133.        ,\n       135.        , 137.        , 138.        , 139.        ,\n       140.        , 142.        , 145.        , 148.        ,\n       149.        , 150.        , 152.        , 153.        ,\n       155.        , 158.        , 160.        , 165.        ,\n       167.        , 170.        , 175.        , 180.        ,\n       190.        , 193.        , 198.        , 200.        ,\n       208.        , 210.        , 215.        , 220.        ,\n       225.        , 230.        ])"
          },
          "metadata": {}
        }
      ]
    },
    {
      "cell_type": "code",
      "source": "Auto.columns",
      "metadata": {
        "trusted": true
      },
      "execution_count": 17,
      "outputs": [
        {
          "execution_count": 17,
          "output_type": "execute_result",
          "data": {
            "text/plain": "Index(['mpg', 'cylinders', 'displacement', 'horsepower', 'weight',\n       'acceleration', 'year', 'origin', 'name'],\n      dtype='object')"
          },
          "metadata": {}
        }
      ]
    },
    {
      "cell_type": "code",
      "source": "idx_80 = Auto['year'] > 80\nAuto[idx_80]",
      "metadata": {
        "trusted": true
      },
      "execution_count": 19,
      "outputs": [
        {
          "execution_count": 19,
          "output_type": "execute_result",
          "data": {
            "text/plain": "      mpg  cylinders  displacement  horsepower  weight  acceleration  year  \\\n338  27.2          4         135.0   84.000000    2490          15.7    81   \n339  26.6          4         151.0   84.000000    2635          16.4    81   \n340  25.8          4         156.0   92.000000    2620          14.4    81   \n341  23.5          6         173.0  110.000000    2725          12.6    81   \n342  30.0          4         135.0   84.000000    2385          12.9    81   \n343  39.1          4          79.0   58.000000    1755          16.9    81   \n344  39.0          4          86.0   64.000000    1875          16.4    81   \n345  35.1          4          81.0   60.000000    1760          16.1    81   \n346  32.3          4          97.0   67.000000    2065          17.8    81   \n347  37.0          4          85.0   65.000000    1975          19.4    81   \n348  37.7          4          89.0   62.000000    2050          17.3    81   \n349  34.1          4          91.0   68.000000    1985          16.0    81   \n350  34.7          4         105.0   63.000000    2215          14.9    81   \n351  34.4          4          98.0   65.000000    2045          16.2    81   \n352  29.9          4          98.0   65.000000    2380          20.7    81   \n353  33.0          4         105.0   74.000000    2190          14.2    81   \n354  34.5          4         100.0  104.469388    2320          15.8    81   \n355  33.7          4         107.0   75.000000    2210          14.4    81   \n356  32.4          4         108.0   75.000000    2350          16.8    81   \n357  32.9          4         119.0  100.000000    2615          14.8    81   \n358  31.6          4         120.0   74.000000    2635          18.3    81   \n359  28.1          4         141.0   80.000000    3230          20.4    81   \n360  30.7          6         145.0   76.000000    3160          19.6    81   \n361  25.4          6         168.0  116.000000    2900          12.6    81   \n362  24.2          6         146.0  120.000000    2930          13.8    81   \n363  22.4          6         231.0  110.000000    3415          15.8    81   \n364  26.6          8         350.0  105.000000    3725          19.0    81   \n365  20.2          6         200.0   88.000000    3060          17.1    81   \n366  17.6          6         225.0   85.000000    3465          16.6    81   \n367  28.0          4         112.0   88.000000    2605          19.6    82   \n368  27.0          4         112.0   88.000000    2640          18.6    82   \n369  34.0          4         112.0   88.000000    2395          18.0    82   \n370  31.0          4         112.0   85.000000    2575          16.2    82   \n371  29.0          4         135.0   84.000000    2525          16.0    82   \n372  27.0          4         151.0   90.000000    2735          18.0    82   \n373  24.0          4         140.0   92.000000    2865          16.4    82   \n374  36.0          4         105.0   74.000000    1980          15.3    82   \n375  37.0          4          91.0   68.000000    2025          18.2    82   \n376  31.0          4          91.0   68.000000    1970          17.6    82   \n377  38.0          4         105.0   63.000000    2125          14.7    82   \n378  36.0          4          98.0   70.000000    2125          17.3    82   \n379  36.0          4         120.0   88.000000    2160          14.5    82   \n380  36.0          4         107.0   75.000000    2205          14.5    82   \n381  34.0          4         108.0   70.000000    2245          16.9    82   \n382  38.0          4          91.0   67.000000    1965          15.0    82   \n383  32.0          4          91.0   67.000000    1965          15.7    82   \n384  38.0          4          91.0   67.000000    1995          16.2    82   \n385  25.0          6         181.0  110.000000    2945          16.4    82   \n386  38.0          6         262.0   85.000000    3015          17.0    82   \n387  26.0          4         156.0   92.000000    2585          14.5    82   \n388  22.0          6         232.0  112.000000    2835          14.7    82   \n389  32.0          4         144.0   96.000000    2665          13.9    82   \n390  36.0          4         135.0   84.000000    2370          13.0    82   \n391  27.0          4         151.0   90.000000    2950          17.3    82   \n392  27.0          4         140.0   86.000000    2790          15.6    82   \n393  44.0          4          97.0   52.000000    2130          24.6    82   \n394  32.0          4         135.0   84.000000    2295          11.6    82   \n395  28.0          4         120.0   79.000000    2625          18.6    82   \n396  31.0          4         119.0   82.000000    2720          19.4    82   \n\n     origin                               name  \n338       1                   plymouth reliant  \n339       1                      buick skylark  \n340       1             dodge aries wagon (sw)  \n341       1                 chevrolet citation  \n342       1                   plymouth reliant  \n343       3                     toyota starlet  \n344       1                     plymouth champ  \n345       3                   honda civic 1300  \n346       3                             subaru  \n347       3                     datsun 210 mpg  \n348       3                      toyota tercel  \n349       3                        mazda glc 4  \n350       1                 plymouth horizon 4  \n351       1                     ford escort 4w  \n352       1                     ford escort 2h  \n353       2                   volkswagen jetta  \n354       2                        renault 18i  \n355       3                      honda prelude  \n356       3                     toyota corolla  \n357       3                       datsun 200sx  \n358       3                          mazda 626  \n359       2          peugeot 505s turbo diesel  \n360       2                       volvo diesel  \n361       3                    toyota cressida  \n362       3                  datsun 810 maxima  \n363       1                      buick century  \n364       1              oldsmobile cutlass ls  \n365       1                    ford granada gl  \n366       1             chrysler lebaron salon  \n367       1                 chevrolet cavalier  \n368       1           chevrolet cavalier wagon  \n369       1          chevrolet cavalier 2-door  \n370       1         pontiac j2000 se hatchback  \n371       1                     dodge aries se  \n372       1                    pontiac phoenix  \n373       1               ford fairmont futura  \n374       2                volkswagen rabbit l  \n375       3                 mazda glc custom l  \n376       3                   mazda glc custom  \n377       1             plymouth horizon miser  \n378       1                     mercury lynx l  \n379       3                   nissan stanza xe  \n380       3                       honda accord  \n381       3                     toyota corolla  \n382       3                        honda civic  \n383       3                 honda civic (auto)  \n384       3                      datsun 310 gx  \n385       1              buick century limited  \n386       1  oldsmobile cutlass ciera (diesel)  \n387       1         chrysler lebaron medallion  \n388       1                     ford granada l  \n389       3                   toyota celica gt  \n390       1                  dodge charger 2.2  \n391       1                   chevrolet camaro  \n392       1                    ford mustang gl  \n393       2                          vw pickup  \n394       1                      dodge rampage  \n395       1                        ford ranger  \n396       1                         chevy s-10  ",
            "text/html": "<div>\n<style scoped>\n    .dataframe tbody tr th:only-of-type {\n        vertical-align: middle;\n    }\n\n    .dataframe tbody tr th {\n        vertical-align: top;\n    }\n\n    .dataframe thead th {\n        text-align: right;\n    }\n</style>\n<table border=\"1\" class=\"dataframe\">\n  <thead>\n    <tr style=\"text-align: right;\">\n      <th></th>\n      <th>mpg</th>\n      <th>cylinders</th>\n      <th>displacement</th>\n      <th>horsepower</th>\n      <th>weight</th>\n      <th>acceleration</th>\n      <th>year</th>\n      <th>origin</th>\n      <th>name</th>\n    </tr>\n  </thead>\n  <tbody>\n    <tr>\n      <th>338</th>\n      <td>27.2</td>\n      <td>4</td>\n      <td>135.0</td>\n      <td>84.000000</td>\n      <td>2490</td>\n      <td>15.7</td>\n      <td>81</td>\n      <td>1</td>\n      <td>plymouth reliant</td>\n    </tr>\n    <tr>\n      <th>339</th>\n      <td>26.6</td>\n      <td>4</td>\n      <td>151.0</td>\n      <td>84.000000</td>\n      <td>2635</td>\n      <td>16.4</td>\n      <td>81</td>\n      <td>1</td>\n      <td>buick skylark</td>\n    </tr>\n    <tr>\n      <th>340</th>\n      <td>25.8</td>\n      <td>4</td>\n      <td>156.0</td>\n      <td>92.000000</td>\n      <td>2620</td>\n      <td>14.4</td>\n      <td>81</td>\n      <td>1</td>\n      <td>dodge aries wagon (sw)</td>\n    </tr>\n    <tr>\n      <th>341</th>\n      <td>23.5</td>\n      <td>6</td>\n      <td>173.0</td>\n      <td>110.000000</td>\n      <td>2725</td>\n      <td>12.6</td>\n      <td>81</td>\n      <td>1</td>\n      <td>chevrolet citation</td>\n    </tr>\n    <tr>\n      <th>342</th>\n      <td>30.0</td>\n      <td>4</td>\n      <td>135.0</td>\n      <td>84.000000</td>\n      <td>2385</td>\n      <td>12.9</td>\n      <td>81</td>\n      <td>1</td>\n      <td>plymouth reliant</td>\n    </tr>\n    <tr>\n      <th>343</th>\n      <td>39.1</td>\n      <td>4</td>\n      <td>79.0</td>\n      <td>58.000000</td>\n      <td>1755</td>\n      <td>16.9</td>\n      <td>81</td>\n      <td>3</td>\n      <td>toyota starlet</td>\n    </tr>\n    <tr>\n      <th>344</th>\n      <td>39.0</td>\n      <td>4</td>\n      <td>86.0</td>\n      <td>64.000000</td>\n      <td>1875</td>\n      <td>16.4</td>\n      <td>81</td>\n      <td>1</td>\n      <td>plymouth champ</td>\n    </tr>\n    <tr>\n      <th>345</th>\n      <td>35.1</td>\n      <td>4</td>\n      <td>81.0</td>\n      <td>60.000000</td>\n      <td>1760</td>\n      <td>16.1</td>\n      <td>81</td>\n      <td>3</td>\n      <td>honda civic 1300</td>\n    </tr>\n    <tr>\n      <th>346</th>\n      <td>32.3</td>\n      <td>4</td>\n      <td>97.0</td>\n      <td>67.000000</td>\n      <td>2065</td>\n      <td>17.8</td>\n      <td>81</td>\n      <td>3</td>\n      <td>subaru</td>\n    </tr>\n    <tr>\n      <th>347</th>\n      <td>37.0</td>\n      <td>4</td>\n      <td>85.0</td>\n      <td>65.000000</td>\n      <td>1975</td>\n      <td>19.4</td>\n      <td>81</td>\n      <td>3</td>\n      <td>datsun 210 mpg</td>\n    </tr>\n    <tr>\n      <th>348</th>\n      <td>37.7</td>\n      <td>4</td>\n      <td>89.0</td>\n      <td>62.000000</td>\n      <td>2050</td>\n      <td>17.3</td>\n      <td>81</td>\n      <td>3</td>\n      <td>toyota tercel</td>\n    </tr>\n    <tr>\n      <th>349</th>\n      <td>34.1</td>\n      <td>4</td>\n      <td>91.0</td>\n      <td>68.000000</td>\n      <td>1985</td>\n      <td>16.0</td>\n      <td>81</td>\n      <td>3</td>\n      <td>mazda glc 4</td>\n    </tr>\n    <tr>\n      <th>350</th>\n      <td>34.7</td>\n      <td>4</td>\n      <td>105.0</td>\n      <td>63.000000</td>\n      <td>2215</td>\n      <td>14.9</td>\n      <td>81</td>\n      <td>1</td>\n      <td>plymouth horizon 4</td>\n    </tr>\n    <tr>\n      <th>351</th>\n      <td>34.4</td>\n      <td>4</td>\n      <td>98.0</td>\n      <td>65.000000</td>\n      <td>2045</td>\n      <td>16.2</td>\n      <td>81</td>\n      <td>1</td>\n      <td>ford escort 4w</td>\n    </tr>\n    <tr>\n      <th>352</th>\n      <td>29.9</td>\n      <td>4</td>\n      <td>98.0</td>\n      <td>65.000000</td>\n      <td>2380</td>\n      <td>20.7</td>\n      <td>81</td>\n      <td>1</td>\n      <td>ford escort 2h</td>\n    </tr>\n    <tr>\n      <th>353</th>\n      <td>33.0</td>\n      <td>4</td>\n      <td>105.0</td>\n      <td>74.000000</td>\n      <td>2190</td>\n      <td>14.2</td>\n      <td>81</td>\n      <td>2</td>\n      <td>volkswagen jetta</td>\n    </tr>\n    <tr>\n      <th>354</th>\n      <td>34.5</td>\n      <td>4</td>\n      <td>100.0</td>\n      <td>104.469388</td>\n      <td>2320</td>\n      <td>15.8</td>\n      <td>81</td>\n      <td>2</td>\n      <td>renault 18i</td>\n    </tr>\n    <tr>\n      <th>355</th>\n      <td>33.7</td>\n      <td>4</td>\n      <td>107.0</td>\n      <td>75.000000</td>\n      <td>2210</td>\n      <td>14.4</td>\n      <td>81</td>\n      <td>3</td>\n      <td>honda prelude</td>\n    </tr>\n    <tr>\n      <th>356</th>\n      <td>32.4</td>\n      <td>4</td>\n      <td>108.0</td>\n      <td>75.000000</td>\n      <td>2350</td>\n      <td>16.8</td>\n      <td>81</td>\n      <td>3</td>\n      <td>toyota corolla</td>\n    </tr>\n    <tr>\n      <th>357</th>\n      <td>32.9</td>\n      <td>4</td>\n      <td>119.0</td>\n      <td>100.000000</td>\n      <td>2615</td>\n      <td>14.8</td>\n      <td>81</td>\n      <td>3</td>\n      <td>datsun 200sx</td>\n    </tr>\n    <tr>\n      <th>358</th>\n      <td>31.6</td>\n      <td>4</td>\n      <td>120.0</td>\n      <td>74.000000</td>\n      <td>2635</td>\n      <td>18.3</td>\n      <td>81</td>\n      <td>3</td>\n      <td>mazda 626</td>\n    </tr>\n    <tr>\n      <th>359</th>\n      <td>28.1</td>\n      <td>4</td>\n      <td>141.0</td>\n      <td>80.000000</td>\n      <td>3230</td>\n      <td>20.4</td>\n      <td>81</td>\n      <td>2</td>\n      <td>peugeot 505s turbo diesel</td>\n    </tr>\n    <tr>\n      <th>360</th>\n      <td>30.7</td>\n      <td>6</td>\n      <td>145.0</td>\n      <td>76.000000</td>\n      <td>3160</td>\n      <td>19.6</td>\n      <td>81</td>\n      <td>2</td>\n      <td>volvo diesel</td>\n    </tr>\n    <tr>\n      <th>361</th>\n      <td>25.4</td>\n      <td>6</td>\n      <td>168.0</td>\n      <td>116.000000</td>\n      <td>2900</td>\n      <td>12.6</td>\n      <td>81</td>\n      <td>3</td>\n      <td>toyota cressida</td>\n    </tr>\n    <tr>\n      <th>362</th>\n      <td>24.2</td>\n      <td>6</td>\n      <td>146.0</td>\n      <td>120.000000</td>\n      <td>2930</td>\n      <td>13.8</td>\n      <td>81</td>\n      <td>3</td>\n      <td>datsun 810 maxima</td>\n    </tr>\n    <tr>\n      <th>363</th>\n      <td>22.4</td>\n      <td>6</td>\n      <td>231.0</td>\n      <td>110.000000</td>\n      <td>3415</td>\n      <td>15.8</td>\n      <td>81</td>\n      <td>1</td>\n      <td>buick century</td>\n    </tr>\n    <tr>\n      <th>364</th>\n      <td>26.6</td>\n      <td>8</td>\n      <td>350.0</td>\n      <td>105.000000</td>\n      <td>3725</td>\n      <td>19.0</td>\n      <td>81</td>\n      <td>1</td>\n      <td>oldsmobile cutlass ls</td>\n    </tr>\n    <tr>\n      <th>365</th>\n      <td>20.2</td>\n      <td>6</td>\n      <td>200.0</td>\n      <td>88.000000</td>\n      <td>3060</td>\n      <td>17.1</td>\n      <td>81</td>\n      <td>1</td>\n      <td>ford granada gl</td>\n    </tr>\n    <tr>\n      <th>366</th>\n      <td>17.6</td>\n      <td>6</td>\n      <td>225.0</td>\n      <td>85.000000</td>\n      <td>3465</td>\n      <td>16.6</td>\n      <td>81</td>\n      <td>1</td>\n      <td>chrysler lebaron salon</td>\n    </tr>\n    <tr>\n      <th>367</th>\n      <td>28.0</td>\n      <td>4</td>\n      <td>112.0</td>\n      <td>88.000000</td>\n      <td>2605</td>\n      <td>19.6</td>\n      <td>82</td>\n      <td>1</td>\n      <td>chevrolet cavalier</td>\n    </tr>\n    <tr>\n      <th>368</th>\n      <td>27.0</td>\n      <td>4</td>\n      <td>112.0</td>\n      <td>88.000000</td>\n      <td>2640</td>\n      <td>18.6</td>\n      <td>82</td>\n      <td>1</td>\n      <td>chevrolet cavalier wagon</td>\n    </tr>\n    <tr>\n      <th>369</th>\n      <td>34.0</td>\n      <td>4</td>\n      <td>112.0</td>\n      <td>88.000000</td>\n      <td>2395</td>\n      <td>18.0</td>\n      <td>82</td>\n      <td>1</td>\n      <td>chevrolet cavalier 2-door</td>\n    </tr>\n    <tr>\n      <th>370</th>\n      <td>31.0</td>\n      <td>4</td>\n      <td>112.0</td>\n      <td>85.000000</td>\n      <td>2575</td>\n      <td>16.2</td>\n      <td>82</td>\n      <td>1</td>\n      <td>pontiac j2000 se hatchback</td>\n    </tr>\n    <tr>\n      <th>371</th>\n      <td>29.0</td>\n      <td>4</td>\n      <td>135.0</td>\n      <td>84.000000</td>\n      <td>2525</td>\n      <td>16.0</td>\n      <td>82</td>\n      <td>1</td>\n      <td>dodge aries se</td>\n    </tr>\n    <tr>\n      <th>372</th>\n      <td>27.0</td>\n      <td>4</td>\n      <td>151.0</td>\n      <td>90.000000</td>\n      <td>2735</td>\n      <td>18.0</td>\n      <td>82</td>\n      <td>1</td>\n      <td>pontiac phoenix</td>\n    </tr>\n    <tr>\n      <th>373</th>\n      <td>24.0</td>\n      <td>4</td>\n      <td>140.0</td>\n      <td>92.000000</td>\n      <td>2865</td>\n      <td>16.4</td>\n      <td>82</td>\n      <td>1</td>\n      <td>ford fairmont futura</td>\n    </tr>\n    <tr>\n      <th>374</th>\n      <td>36.0</td>\n      <td>4</td>\n      <td>105.0</td>\n      <td>74.000000</td>\n      <td>1980</td>\n      <td>15.3</td>\n      <td>82</td>\n      <td>2</td>\n      <td>volkswagen rabbit l</td>\n    </tr>\n    <tr>\n      <th>375</th>\n      <td>37.0</td>\n      <td>4</td>\n      <td>91.0</td>\n      <td>68.000000</td>\n      <td>2025</td>\n      <td>18.2</td>\n      <td>82</td>\n      <td>3</td>\n      <td>mazda glc custom l</td>\n    </tr>\n    <tr>\n      <th>376</th>\n      <td>31.0</td>\n      <td>4</td>\n      <td>91.0</td>\n      <td>68.000000</td>\n      <td>1970</td>\n      <td>17.6</td>\n      <td>82</td>\n      <td>3</td>\n      <td>mazda glc custom</td>\n    </tr>\n    <tr>\n      <th>377</th>\n      <td>38.0</td>\n      <td>4</td>\n      <td>105.0</td>\n      <td>63.000000</td>\n      <td>2125</td>\n      <td>14.7</td>\n      <td>82</td>\n      <td>1</td>\n      <td>plymouth horizon miser</td>\n    </tr>\n    <tr>\n      <th>378</th>\n      <td>36.0</td>\n      <td>4</td>\n      <td>98.0</td>\n      <td>70.000000</td>\n      <td>2125</td>\n      <td>17.3</td>\n      <td>82</td>\n      <td>1</td>\n      <td>mercury lynx l</td>\n    </tr>\n    <tr>\n      <th>379</th>\n      <td>36.0</td>\n      <td>4</td>\n      <td>120.0</td>\n      <td>88.000000</td>\n      <td>2160</td>\n      <td>14.5</td>\n      <td>82</td>\n      <td>3</td>\n      <td>nissan stanza xe</td>\n    </tr>\n    <tr>\n      <th>380</th>\n      <td>36.0</td>\n      <td>4</td>\n      <td>107.0</td>\n      <td>75.000000</td>\n      <td>2205</td>\n      <td>14.5</td>\n      <td>82</td>\n      <td>3</td>\n      <td>honda accord</td>\n    </tr>\n    <tr>\n      <th>381</th>\n      <td>34.0</td>\n      <td>4</td>\n      <td>108.0</td>\n      <td>70.000000</td>\n      <td>2245</td>\n      <td>16.9</td>\n      <td>82</td>\n      <td>3</td>\n      <td>toyota corolla</td>\n    </tr>\n    <tr>\n      <th>382</th>\n      <td>38.0</td>\n      <td>4</td>\n      <td>91.0</td>\n      <td>67.000000</td>\n      <td>1965</td>\n      <td>15.0</td>\n      <td>82</td>\n      <td>3</td>\n      <td>honda civic</td>\n    </tr>\n    <tr>\n      <th>383</th>\n      <td>32.0</td>\n      <td>4</td>\n      <td>91.0</td>\n      <td>67.000000</td>\n      <td>1965</td>\n      <td>15.7</td>\n      <td>82</td>\n      <td>3</td>\n      <td>honda civic (auto)</td>\n    </tr>\n    <tr>\n      <th>384</th>\n      <td>38.0</td>\n      <td>4</td>\n      <td>91.0</td>\n      <td>67.000000</td>\n      <td>1995</td>\n      <td>16.2</td>\n      <td>82</td>\n      <td>3</td>\n      <td>datsun 310 gx</td>\n    </tr>\n    <tr>\n      <th>385</th>\n      <td>25.0</td>\n      <td>6</td>\n      <td>181.0</td>\n      <td>110.000000</td>\n      <td>2945</td>\n      <td>16.4</td>\n      <td>82</td>\n      <td>1</td>\n      <td>buick century limited</td>\n    </tr>\n    <tr>\n      <th>386</th>\n      <td>38.0</td>\n      <td>6</td>\n      <td>262.0</td>\n      <td>85.000000</td>\n      <td>3015</td>\n      <td>17.0</td>\n      <td>82</td>\n      <td>1</td>\n      <td>oldsmobile cutlass ciera (diesel)</td>\n    </tr>\n    <tr>\n      <th>387</th>\n      <td>26.0</td>\n      <td>4</td>\n      <td>156.0</td>\n      <td>92.000000</td>\n      <td>2585</td>\n      <td>14.5</td>\n      <td>82</td>\n      <td>1</td>\n      <td>chrysler lebaron medallion</td>\n    </tr>\n    <tr>\n      <th>388</th>\n      <td>22.0</td>\n      <td>6</td>\n      <td>232.0</td>\n      <td>112.000000</td>\n      <td>2835</td>\n      <td>14.7</td>\n      <td>82</td>\n      <td>1</td>\n      <td>ford granada l</td>\n    </tr>\n    <tr>\n      <th>389</th>\n      <td>32.0</td>\n      <td>4</td>\n      <td>144.0</td>\n      <td>96.000000</td>\n      <td>2665</td>\n      <td>13.9</td>\n      <td>82</td>\n      <td>3</td>\n      <td>toyota celica gt</td>\n    </tr>\n    <tr>\n      <th>390</th>\n      <td>36.0</td>\n      <td>4</td>\n      <td>135.0</td>\n      <td>84.000000</td>\n      <td>2370</td>\n      <td>13.0</td>\n      <td>82</td>\n      <td>1</td>\n      <td>dodge charger 2.2</td>\n    </tr>\n    <tr>\n      <th>391</th>\n      <td>27.0</td>\n      <td>4</td>\n      <td>151.0</td>\n      <td>90.000000</td>\n      <td>2950</td>\n      <td>17.3</td>\n      <td>82</td>\n      <td>1</td>\n      <td>chevrolet camaro</td>\n    </tr>\n    <tr>\n      <th>392</th>\n      <td>27.0</td>\n      <td>4</td>\n      <td>140.0</td>\n      <td>86.000000</td>\n      <td>2790</td>\n      <td>15.6</td>\n      <td>82</td>\n      <td>1</td>\n      <td>ford mustang gl</td>\n    </tr>\n    <tr>\n      <th>393</th>\n      <td>44.0</td>\n      <td>4</td>\n      <td>97.0</td>\n      <td>52.000000</td>\n      <td>2130</td>\n      <td>24.6</td>\n      <td>82</td>\n      <td>2</td>\n      <td>vw pickup</td>\n    </tr>\n    <tr>\n      <th>394</th>\n      <td>32.0</td>\n      <td>4</td>\n      <td>135.0</td>\n      <td>84.000000</td>\n      <td>2295</td>\n      <td>11.6</td>\n      <td>82</td>\n      <td>1</td>\n      <td>dodge rampage</td>\n    </tr>\n    <tr>\n      <th>395</th>\n      <td>28.0</td>\n      <td>4</td>\n      <td>120.0</td>\n      <td>79.000000</td>\n      <td>2625</td>\n      <td>18.6</td>\n      <td>82</td>\n      <td>1</td>\n      <td>ford ranger</td>\n    </tr>\n    <tr>\n      <th>396</th>\n      <td>31.0</td>\n      <td>4</td>\n      <td>119.0</td>\n      <td>82.000000</td>\n      <td>2720</td>\n      <td>19.4</td>\n      <td>82</td>\n      <td>1</td>\n      <td>chevy s-10</td>\n    </tr>\n  </tbody>\n</table>\n</div>"
          },
          "metadata": {}
        }
      ]
    },
    {
      "cell_type": "code",
      "source": "idx_80",
      "metadata": {
        "trusted": true
      },
      "execution_count": 20,
      "outputs": [
        {
          "execution_count": 20,
          "output_type": "execute_result",
          "data": {
            "text/plain": "0      False\n1      False\n2      False\n3      False\n4      False\n       ...  \n392     True\n393     True\n394     True\n395     True\n396     True\nName: year, Length: 397, dtype: bool"
          },
          "metadata": {}
        }
      ]
    },
    {
      "cell_type": "code",
      "source": "# 使用set_index()\n\nAuto_re = Auto.set_index('name')\nAuto_re",
      "metadata": {
        "trusted": true
      },
      "execution_count": 21,
      "outputs": [
        {
          "execution_count": 21,
          "output_type": "execute_result",
          "data": {
            "text/plain": "                            mpg  cylinders  displacement  horsepower  weight  \\\nname                                                                           \nchevrolet chevelle malibu  18.0          8         307.0       130.0    3504   \nbuick skylark 320          15.0          8         350.0       165.0    3693   \nplymouth satellite         18.0          8         318.0       150.0    3436   \namc rebel sst              16.0          8         304.0       150.0    3433   \nford torino                17.0          8         302.0       140.0    3449   \n...                         ...        ...           ...         ...     ...   \nford mustang gl            27.0          4         140.0        86.0    2790   \nvw pickup                  44.0          4          97.0        52.0    2130   \ndodge rampage              32.0          4         135.0        84.0    2295   \nford ranger                28.0          4         120.0        79.0    2625   \nchevy s-10                 31.0          4         119.0        82.0    2720   \n\n                           acceleration  year  origin  \nname                                                   \nchevrolet chevelle malibu          12.0    70       1  \nbuick skylark 320                  11.5    70       1  \nplymouth satellite                 11.0    70       1  \namc rebel sst                      12.0    70       1  \nford torino                        10.5    70       1  \n...                                 ...   ...     ...  \nford mustang gl                    15.6    82       1  \nvw pickup                          24.6    82       2  \ndodge rampage                      11.6    82       1  \nford ranger                        18.6    82       1  \nchevy s-10                         19.4    82       1  \n\n[397 rows x 8 columns]",
            "text/html": "<div>\n<style scoped>\n    .dataframe tbody tr th:only-of-type {\n        vertical-align: middle;\n    }\n\n    .dataframe tbody tr th {\n        vertical-align: top;\n    }\n\n    .dataframe thead th {\n        text-align: right;\n    }\n</style>\n<table border=\"1\" class=\"dataframe\">\n  <thead>\n    <tr style=\"text-align: right;\">\n      <th></th>\n      <th>mpg</th>\n      <th>cylinders</th>\n      <th>displacement</th>\n      <th>horsepower</th>\n      <th>weight</th>\n      <th>acceleration</th>\n      <th>year</th>\n      <th>origin</th>\n    </tr>\n    <tr>\n      <th>name</th>\n      <th></th>\n      <th></th>\n      <th></th>\n      <th></th>\n      <th></th>\n      <th></th>\n      <th></th>\n      <th></th>\n    </tr>\n  </thead>\n  <tbody>\n    <tr>\n      <th>chevrolet chevelle malibu</th>\n      <td>18.0</td>\n      <td>8</td>\n      <td>307.0</td>\n      <td>130.0</td>\n      <td>3504</td>\n      <td>12.0</td>\n      <td>70</td>\n      <td>1</td>\n    </tr>\n    <tr>\n      <th>buick skylark 320</th>\n      <td>15.0</td>\n      <td>8</td>\n      <td>350.0</td>\n      <td>165.0</td>\n      <td>3693</td>\n      <td>11.5</td>\n      <td>70</td>\n      <td>1</td>\n    </tr>\n    <tr>\n      <th>plymouth satellite</th>\n      <td>18.0</td>\n      <td>8</td>\n      <td>318.0</td>\n      <td>150.0</td>\n      <td>3436</td>\n      <td>11.0</td>\n      <td>70</td>\n      <td>1</td>\n    </tr>\n    <tr>\n      <th>amc rebel sst</th>\n      <td>16.0</td>\n      <td>8</td>\n      <td>304.0</td>\n      <td>150.0</td>\n      <td>3433</td>\n      <td>12.0</td>\n      <td>70</td>\n      <td>1</td>\n    </tr>\n    <tr>\n      <th>ford torino</th>\n      <td>17.0</td>\n      <td>8</td>\n      <td>302.0</td>\n      <td>140.0</td>\n      <td>3449</td>\n      <td>10.5</td>\n      <td>70</td>\n      <td>1</td>\n    </tr>\n    <tr>\n      <th>...</th>\n      <td>...</td>\n      <td>...</td>\n      <td>...</td>\n      <td>...</td>\n      <td>...</td>\n      <td>...</td>\n      <td>...</td>\n      <td>...</td>\n    </tr>\n    <tr>\n      <th>ford mustang gl</th>\n      <td>27.0</td>\n      <td>4</td>\n      <td>140.0</td>\n      <td>86.0</td>\n      <td>2790</td>\n      <td>15.6</td>\n      <td>82</td>\n      <td>1</td>\n    </tr>\n    <tr>\n      <th>vw pickup</th>\n      <td>44.0</td>\n      <td>4</td>\n      <td>97.0</td>\n      <td>52.0</td>\n      <td>2130</td>\n      <td>24.6</td>\n      <td>82</td>\n      <td>2</td>\n    </tr>\n    <tr>\n      <th>dodge rampage</th>\n      <td>32.0</td>\n      <td>4</td>\n      <td>135.0</td>\n      <td>84.0</td>\n      <td>2295</td>\n      <td>11.6</td>\n      <td>82</td>\n      <td>1</td>\n    </tr>\n    <tr>\n      <th>ford ranger</th>\n      <td>28.0</td>\n      <td>4</td>\n      <td>120.0</td>\n      <td>79.0</td>\n      <td>2625</td>\n      <td>18.6</td>\n      <td>82</td>\n      <td>1</td>\n    </tr>\n    <tr>\n      <th>chevy s-10</th>\n      <td>31.0</td>\n      <td>4</td>\n      <td>119.0</td>\n      <td>82.0</td>\n      <td>2720</td>\n      <td>19.4</td>\n      <td>82</td>\n      <td>1</td>\n    </tr>\n  </tbody>\n</table>\n<p>397 rows × 8 columns</p>\n</div>"
          },
          "metadata": {}
        }
      ]
    },
    {
      "cell_type": "code",
      "source": "rows = ['amc rebel sst', 'ford torino']\nAuto_re.loc[rows]",
      "metadata": {
        "trusted": true
      },
      "execution_count": 22,
      "outputs": [
        {
          "execution_count": 22,
          "output_type": "execute_result",
          "data": {
            "text/plain": "                mpg  cylinders  displacement  horsepower  weight  \\\nname                                                               \namc rebel sst  16.0          8         304.0       150.0    3433   \nford torino    17.0          8         302.0       140.0    3449   \n\n               acceleration  year  origin  \nname                                       \namc rebel sst          12.0    70       1  \nford torino            10.5    70       1  ",
            "text/html": "<div>\n<style scoped>\n    .dataframe tbody tr th:only-of-type {\n        vertical-align: middle;\n    }\n\n    .dataframe tbody tr th {\n        vertical-align: top;\n    }\n\n    .dataframe thead th {\n        text-align: right;\n    }\n</style>\n<table border=\"1\" class=\"dataframe\">\n  <thead>\n    <tr style=\"text-align: right;\">\n      <th></th>\n      <th>mpg</th>\n      <th>cylinders</th>\n      <th>displacement</th>\n      <th>horsepower</th>\n      <th>weight</th>\n      <th>acceleration</th>\n      <th>year</th>\n      <th>origin</th>\n    </tr>\n    <tr>\n      <th>name</th>\n      <th></th>\n      <th></th>\n      <th></th>\n      <th></th>\n      <th></th>\n      <th></th>\n      <th></th>\n      <th></th>\n    </tr>\n  </thead>\n  <tbody>\n    <tr>\n      <th>amc rebel sst</th>\n      <td>16.0</td>\n      <td>8</td>\n      <td>304.0</td>\n      <td>150.0</td>\n      <td>3433</td>\n      <td>12.0</td>\n      <td>70</td>\n      <td>1</td>\n    </tr>\n    <tr>\n      <th>ford torino</th>\n      <td>17.0</td>\n      <td>8</td>\n      <td>302.0</td>\n      <td>140.0</td>\n      <td>3449</td>\n      <td>10.5</td>\n      <td>70</td>\n      <td>1</td>\n    </tr>\n  </tbody>\n</table>\n</div>"
          },
          "metadata": {}
        }
      ]
    },
    {
      "cell_type": "code",
      "source": "#iloc = index loc\nAuto_re.iloc[[3,4],[0,2,3]]",
      "metadata": {
        "trusted": true
      },
      "execution_count": 23,
      "outputs": [
        {
          "execution_count": 23,
          "output_type": "execute_result",
          "data": {
            "text/plain": "                mpg  displacement  horsepower\nname                                         \namc rebel sst  16.0         304.0       150.0\nford torino    17.0         302.0       140.0",
            "text/html": "<div>\n<style scoped>\n    .dataframe tbody tr th:only-of-type {\n        vertical-align: middle;\n    }\n\n    .dataframe tbody tr th {\n        vertical-align: top;\n    }\n\n    .dataframe thead th {\n        text-align: right;\n    }\n</style>\n<table border=\"1\" class=\"dataframe\">\n  <thead>\n    <tr style=\"text-align: right;\">\n      <th></th>\n      <th>mpg</th>\n      <th>displacement</th>\n      <th>horsepower</th>\n    </tr>\n    <tr>\n      <th>name</th>\n      <th></th>\n      <th></th>\n      <th></th>\n    </tr>\n  </thead>\n  <tbody>\n    <tr>\n      <th>amc rebel sst</th>\n      <td>16.0</td>\n      <td>304.0</td>\n      <td>150.0</td>\n    </tr>\n    <tr>\n      <th>ford torino</th>\n      <td>17.0</td>\n      <td>302.0</td>\n      <td>140.0</td>\n    </tr>\n  </tbody>\n</table>\n</div>"
          },
          "metadata": {}
        }
      ]
    },
    {
      "cell_type": "code",
      "source": "idx_80 = Auto_re['year'] > 80\nAuto_re.loc[idx_80,['weight','origin']]",
      "metadata": {
        "trusted": true
      },
      "execution_count": 25,
      "outputs": [
        {
          "execution_count": 25,
          "output_type": "execute_result",
          "data": {
            "text/plain": "                                   weight  origin\nname                                             \nplymouth reliant                     2490       1\nbuick skylark                        2635       1\ndodge aries wagon (sw)               2620       1\nchevrolet citation                   2725       1\nplymouth reliant                     2385       1\ntoyota starlet                       1755       3\nplymouth champ                       1875       1\nhonda civic 1300                     1760       3\nsubaru                               2065       3\ndatsun 210 mpg                       1975       3\ntoyota tercel                        2050       3\nmazda glc 4                          1985       3\nplymouth horizon 4                   2215       1\nford escort 4w                       2045       1\nford escort 2h                       2380       1\nvolkswagen jetta                     2190       2\nrenault 18i                          2320       2\nhonda prelude                        2210       3\ntoyota corolla                       2350       3\ndatsun 200sx                         2615       3\nmazda 626                            2635       3\npeugeot 505s turbo diesel            3230       2\nvolvo diesel                         3160       2\ntoyota cressida                      2900       3\ndatsun 810 maxima                    2930       3\nbuick century                        3415       1\noldsmobile cutlass ls                3725       1\nford granada gl                      3060       1\nchrysler lebaron salon               3465       1\nchevrolet cavalier                   2605       1\nchevrolet cavalier wagon             2640       1\nchevrolet cavalier 2-door            2395       1\npontiac j2000 se hatchback           2575       1\ndodge aries se                       2525       1\npontiac phoenix                      2735       1\nford fairmont futura                 2865       1\nvolkswagen rabbit l                  1980       2\nmazda glc custom l                   2025       3\nmazda glc custom                     1970       3\nplymouth horizon miser               2125       1\nmercury lynx l                       2125       1\nnissan stanza xe                     2160       3\nhonda accord                         2205       3\ntoyota corolla                       2245       3\nhonda civic                          1965       3\nhonda civic (auto)                   1965       3\ndatsun 310 gx                        1995       3\nbuick century limited                2945       1\noldsmobile cutlass ciera (diesel)    3015       1\nchrysler lebaron medallion           2585       1\nford granada l                       2835       1\ntoyota celica gt                     2665       3\ndodge charger 2.2                    2370       1\nchevrolet camaro                     2950       1\nford mustang gl                      2790       1\nvw pickup                            2130       2\ndodge rampage                        2295       1\nford ranger                          2625       1\nchevy s-10                           2720       1",
            "text/html": "<div>\n<style scoped>\n    .dataframe tbody tr th:only-of-type {\n        vertical-align: middle;\n    }\n\n    .dataframe tbody tr th {\n        vertical-align: top;\n    }\n\n    .dataframe thead th {\n        text-align: right;\n    }\n</style>\n<table border=\"1\" class=\"dataframe\">\n  <thead>\n    <tr style=\"text-align: right;\">\n      <th></th>\n      <th>weight</th>\n      <th>origin</th>\n    </tr>\n    <tr>\n      <th>name</th>\n      <th></th>\n      <th></th>\n    </tr>\n  </thead>\n  <tbody>\n    <tr>\n      <th>plymouth reliant</th>\n      <td>2490</td>\n      <td>1</td>\n    </tr>\n    <tr>\n      <th>buick skylark</th>\n      <td>2635</td>\n      <td>1</td>\n    </tr>\n    <tr>\n      <th>dodge aries wagon (sw)</th>\n      <td>2620</td>\n      <td>1</td>\n    </tr>\n    <tr>\n      <th>chevrolet citation</th>\n      <td>2725</td>\n      <td>1</td>\n    </tr>\n    <tr>\n      <th>plymouth reliant</th>\n      <td>2385</td>\n      <td>1</td>\n    </tr>\n    <tr>\n      <th>toyota starlet</th>\n      <td>1755</td>\n      <td>3</td>\n    </tr>\n    <tr>\n      <th>plymouth champ</th>\n      <td>1875</td>\n      <td>1</td>\n    </tr>\n    <tr>\n      <th>honda civic 1300</th>\n      <td>1760</td>\n      <td>3</td>\n    </tr>\n    <tr>\n      <th>subaru</th>\n      <td>2065</td>\n      <td>3</td>\n    </tr>\n    <tr>\n      <th>datsun 210 mpg</th>\n      <td>1975</td>\n      <td>3</td>\n    </tr>\n    <tr>\n      <th>toyota tercel</th>\n      <td>2050</td>\n      <td>3</td>\n    </tr>\n    <tr>\n      <th>mazda glc 4</th>\n      <td>1985</td>\n      <td>3</td>\n    </tr>\n    <tr>\n      <th>plymouth horizon 4</th>\n      <td>2215</td>\n      <td>1</td>\n    </tr>\n    <tr>\n      <th>ford escort 4w</th>\n      <td>2045</td>\n      <td>1</td>\n    </tr>\n    <tr>\n      <th>ford escort 2h</th>\n      <td>2380</td>\n      <td>1</td>\n    </tr>\n    <tr>\n      <th>volkswagen jetta</th>\n      <td>2190</td>\n      <td>2</td>\n    </tr>\n    <tr>\n      <th>renault 18i</th>\n      <td>2320</td>\n      <td>2</td>\n    </tr>\n    <tr>\n      <th>honda prelude</th>\n      <td>2210</td>\n      <td>3</td>\n    </tr>\n    <tr>\n      <th>toyota corolla</th>\n      <td>2350</td>\n      <td>3</td>\n    </tr>\n    <tr>\n      <th>datsun 200sx</th>\n      <td>2615</td>\n      <td>3</td>\n    </tr>\n    <tr>\n      <th>mazda 626</th>\n      <td>2635</td>\n      <td>3</td>\n    </tr>\n    <tr>\n      <th>peugeot 505s turbo diesel</th>\n      <td>3230</td>\n      <td>2</td>\n    </tr>\n    <tr>\n      <th>volvo diesel</th>\n      <td>3160</td>\n      <td>2</td>\n    </tr>\n    <tr>\n      <th>toyota cressida</th>\n      <td>2900</td>\n      <td>3</td>\n    </tr>\n    <tr>\n      <th>datsun 810 maxima</th>\n      <td>2930</td>\n      <td>3</td>\n    </tr>\n    <tr>\n      <th>buick century</th>\n      <td>3415</td>\n      <td>1</td>\n    </tr>\n    <tr>\n      <th>oldsmobile cutlass ls</th>\n      <td>3725</td>\n      <td>1</td>\n    </tr>\n    <tr>\n      <th>ford granada gl</th>\n      <td>3060</td>\n      <td>1</td>\n    </tr>\n    <tr>\n      <th>chrysler lebaron salon</th>\n      <td>3465</td>\n      <td>1</td>\n    </tr>\n    <tr>\n      <th>chevrolet cavalier</th>\n      <td>2605</td>\n      <td>1</td>\n    </tr>\n    <tr>\n      <th>chevrolet cavalier wagon</th>\n      <td>2640</td>\n      <td>1</td>\n    </tr>\n    <tr>\n      <th>chevrolet cavalier 2-door</th>\n      <td>2395</td>\n      <td>1</td>\n    </tr>\n    <tr>\n      <th>pontiac j2000 se hatchback</th>\n      <td>2575</td>\n      <td>1</td>\n    </tr>\n    <tr>\n      <th>dodge aries se</th>\n      <td>2525</td>\n      <td>1</td>\n    </tr>\n    <tr>\n      <th>pontiac phoenix</th>\n      <td>2735</td>\n      <td>1</td>\n    </tr>\n    <tr>\n      <th>ford fairmont futura</th>\n      <td>2865</td>\n      <td>1</td>\n    </tr>\n    <tr>\n      <th>volkswagen rabbit l</th>\n      <td>1980</td>\n      <td>2</td>\n    </tr>\n    <tr>\n      <th>mazda glc custom l</th>\n      <td>2025</td>\n      <td>3</td>\n    </tr>\n    <tr>\n      <th>mazda glc custom</th>\n      <td>1970</td>\n      <td>3</td>\n    </tr>\n    <tr>\n      <th>plymouth horizon miser</th>\n      <td>2125</td>\n      <td>1</td>\n    </tr>\n    <tr>\n      <th>mercury lynx l</th>\n      <td>2125</td>\n      <td>1</td>\n    </tr>\n    <tr>\n      <th>nissan stanza xe</th>\n      <td>2160</td>\n      <td>3</td>\n    </tr>\n    <tr>\n      <th>honda accord</th>\n      <td>2205</td>\n      <td>3</td>\n    </tr>\n    <tr>\n      <th>toyota corolla</th>\n      <td>2245</td>\n      <td>3</td>\n    </tr>\n    <tr>\n      <th>honda civic</th>\n      <td>1965</td>\n      <td>3</td>\n    </tr>\n    <tr>\n      <th>honda civic (auto)</th>\n      <td>1965</td>\n      <td>3</td>\n    </tr>\n    <tr>\n      <th>datsun 310 gx</th>\n      <td>1995</td>\n      <td>3</td>\n    </tr>\n    <tr>\n      <th>buick century limited</th>\n      <td>2945</td>\n      <td>1</td>\n    </tr>\n    <tr>\n      <th>oldsmobile cutlass ciera (diesel)</th>\n      <td>3015</td>\n      <td>1</td>\n    </tr>\n    <tr>\n      <th>chrysler lebaron medallion</th>\n      <td>2585</td>\n      <td>1</td>\n    </tr>\n    <tr>\n      <th>ford granada l</th>\n      <td>2835</td>\n      <td>1</td>\n    </tr>\n    <tr>\n      <th>toyota celica gt</th>\n      <td>2665</td>\n      <td>3</td>\n    </tr>\n    <tr>\n      <th>dodge charger 2.2</th>\n      <td>2370</td>\n      <td>1</td>\n    </tr>\n    <tr>\n      <th>chevrolet camaro</th>\n      <td>2950</td>\n      <td>1</td>\n    </tr>\n    <tr>\n      <th>ford mustang gl</th>\n      <td>2790</td>\n      <td>1</td>\n    </tr>\n    <tr>\n      <th>vw pickup</th>\n      <td>2130</td>\n      <td>2</td>\n    </tr>\n    <tr>\n      <th>dodge rampage</th>\n      <td>2295</td>\n      <td>1</td>\n    </tr>\n    <tr>\n      <th>ford ranger</th>\n      <td>2625</td>\n      <td>1</td>\n    </tr>\n    <tr>\n      <th>chevy s-10</th>\n      <td>2720</td>\n      <td>1</td>\n    </tr>\n  </tbody>\n</table>\n</div>"
          },
          "metadata": {}
        }
      ]
    },
    {
      "cell_type": "code",
      "source": "# 使用匿名函数 lamba\n\nAuto_re.loc[lambda df: df['year'] > 80, ['weight','origin']]",
      "metadata": {
        "trusted": true
      },
      "execution_count": 27,
      "outputs": [
        {
          "execution_count": 27,
          "output_type": "execute_result",
          "data": {
            "text/plain": "                                   weight  origin\nname                                             \nplymouth reliant                     2490       1\nbuick skylark                        2635       1\ndodge aries wagon (sw)               2620       1\nchevrolet citation                   2725       1\nplymouth reliant                     2385       1\ntoyota starlet                       1755       3\nplymouth champ                       1875       1\nhonda civic 1300                     1760       3\nsubaru                               2065       3\ndatsun 210 mpg                       1975       3\ntoyota tercel                        2050       3\nmazda glc 4                          1985       3\nplymouth horizon 4                   2215       1\nford escort 4w                       2045       1\nford escort 2h                       2380       1\nvolkswagen jetta                     2190       2\nrenault 18i                          2320       2\nhonda prelude                        2210       3\ntoyota corolla                       2350       3\ndatsun 200sx                         2615       3\nmazda 626                            2635       3\npeugeot 505s turbo diesel            3230       2\nvolvo diesel                         3160       2\ntoyota cressida                      2900       3\ndatsun 810 maxima                    2930       3\nbuick century                        3415       1\noldsmobile cutlass ls                3725       1\nford granada gl                      3060       1\nchrysler lebaron salon               3465       1\nchevrolet cavalier                   2605       1\nchevrolet cavalier wagon             2640       1\nchevrolet cavalier 2-door            2395       1\npontiac j2000 se hatchback           2575       1\ndodge aries se                       2525       1\npontiac phoenix                      2735       1\nford fairmont futura                 2865       1\nvolkswagen rabbit l                  1980       2\nmazda glc custom l                   2025       3\nmazda glc custom                     1970       3\nplymouth horizon miser               2125       1\nmercury lynx l                       2125       1\nnissan stanza xe                     2160       3\nhonda accord                         2205       3\ntoyota corolla                       2245       3\nhonda civic                          1965       3\nhonda civic (auto)                   1965       3\ndatsun 310 gx                        1995       3\nbuick century limited                2945       1\noldsmobile cutlass ciera (diesel)    3015       1\nchrysler lebaron medallion           2585       1\nford granada l                       2835       1\ntoyota celica gt                     2665       3\ndodge charger 2.2                    2370       1\nchevrolet camaro                     2950       1\nford mustang gl                      2790       1\nvw pickup                            2130       2\ndodge rampage                        2295       1\nford ranger                          2625       1\nchevy s-10                           2720       1",
            "text/html": "<div>\n<style scoped>\n    .dataframe tbody tr th:only-of-type {\n        vertical-align: middle;\n    }\n\n    .dataframe tbody tr th {\n        vertical-align: top;\n    }\n\n    .dataframe thead th {\n        text-align: right;\n    }\n</style>\n<table border=\"1\" class=\"dataframe\">\n  <thead>\n    <tr style=\"text-align: right;\">\n      <th></th>\n      <th>weight</th>\n      <th>origin</th>\n    </tr>\n    <tr>\n      <th>name</th>\n      <th></th>\n      <th></th>\n    </tr>\n  </thead>\n  <tbody>\n    <tr>\n      <th>plymouth reliant</th>\n      <td>2490</td>\n      <td>1</td>\n    </tr>\n    <tr>\n      <th>buick skylark</th>\n      <td>2635</td>\n      <td>1</td>\n    </tr>\n    <tr>\n      <th>dodge aries wagon (sw)</th>\n      <td>2620</td>\n      <td>1</td>\n    </tr>\n    <tr>\n      <th>chevrolet citation</th>\n      <td>2725</td>\n      <td>1</td>\n    </tr>\n    <tr>\n      <th>plymouth reliant</th>\n      <td>2385</td>\n      <td>1</td>\n    </tr>\n    <tr>\n      <th>toyota starlet</th>\n      <td>1755</td>\n      <td>3</td>\n    </tr>\n    <tr>\n      <th>plymouth champ</th>\n      <td>1875</td>\n      <td>1</td>\n    </tr>\n    <tr>\n      <th>honda civic 1300</th>\n      <td>1760</td>\n      <td>3</td>\n    </tr>\n    <tr>\n      <th>subaru</th>\n      <td>2065</td>\n      <td>3</td>\n    </tr>\n    <tr>\n      <th>datsun 210 mpg</th>\n      <td>1975</td>\n      <td>3</td>\n    </tr>\n    <tr>\n      <th>toyota tercel</th>\n      <td>2050</td>\n      <td>3</td>\n    </tr>\n    <tr>\n      <th>mazda glc 4</th>\n      <td>1985</td>\n      <td>3</td>\n    </tr>\n    <tr>\n      <th>plymouth horizon 4</th>\n      <td>2215</td>\n      <td>1</td>\n    </tr>\n    <tr>\n      <th>ford escort 4w</th>\n      <td>2045</td>\n      <td>1</td>\n    </tr>\n    <tr>\n      <th>ford escort 2h</th>\n      <td>2380</td>\n      <td>1</td>\n    </tr>\n    <tr>\n      <th>volkswagen jetta</th>\n      <td>2190</td>\n      <td>2</td>\n    </tr>\n    <tr>\n      <th>renault 18i</th>\n      <td>2320</td>\n      <td>2</td>\n    </tr>\n    <tr>\n      <th>honda prelude</th>\n      <td>2210</td>\n      <td>3</td>\n    </tr>\n    <tr>\n      <th>toyota corolla</th>\n      <td>2350</td>\n      <td>3</td>\n    </tr>\n    <tr>\n      <th>datsun 200sx</th>\n      <td>2615</td>\n      <td>3</td>\n    </tr>\n    <tr>\n      <th>mazda 626</th>\n      <td>2635</td>\n      <td>3</td>\n    </tr>\n    <tr>\n      <th>peugeot 505s turbo diesel</th>\n      <td>3230</td>\n      <td>2</td>\n    </tr>\n    <tr>\n      <th>volvo diesel</th>\n      <td>3160</td>\n      <td>2</td>\n    </tr>\n    <tr>\n      <th>toyota cressida</th>\n      <td>2900</td>\n      <td>3</td>\n    </tr>\n    <tr>\n      <th>datsun 810 maxima</th>\n      <td>2930</td>\n      <td>3</td>\n    </tr>\n    <tr>\n      <th>buick century</th>\n      <td>3415</td>\n      <td>1</td>\n    </tr>\n    <tr>\n      <th>oldsmobile cutlass ls</th>\n      <td>3725</td>\n      <td>1</td>\n    </tr>\n    <tr>\n      <th>ford granada gl</th>\n      <td>3060</td>\n      <td>1</td>\n    </tr>\n    <tr>\n      <th>chrysler lebaron salon</th>\n      <td>3465</td>\n      <td>1</td>\n    </tr>\n    <tr>\n      <th>chevrolet cavalier</th>\n      <td>2605</td>\n      <td>1</td>\n    </tr>\n    <tr>\n      <th>chevrolet cavalier wagon</th>\n      <td>2640</td>\n      <td>1</td>\n    </tr>\n    <tr>\n      <th>chevrolet cavalier 2-door</th>\n      <td>2395</td>\n      <td>1</td>\n    </tr>\n    <tr>\n      <th>pontiac j2000 se hatchback</th>\n      <td>2575</td>\n      <td>1</td>\n    </tr>\n    <tr>\n      <th>dodge aries se</th>\n      <td>2525</td>\n      <td>1</td>\n    </tr>\n    <tr>\n      <th>pontiac phoenix</th>\n      <td>2735</td>\n      <td>1</td>\n    </tr>\n    <tr>\n      <th>ford fairmont futura</th>\n      <td>2865</td>\n      <td>1</td>\n    </tr>\n    <tr>\n      <th>volkswagen rabbit l</th>\n      <td>1980</td>\n      <td>2</td>\n    </tr>\n    <tr>\n      <th>mazda glc custom l</th>\n      <td>2025</td>\n      <td>3</td>\n    </tr>\n    <tr>\n      <th>mazda glc custom</th>\n      <td>1970</td>\n      <td>3</td>\n    </tr>\n    <tr>\n      <th>plymouth horizon miser</th>\n      <td>2125</td>\n      <td>1</td>\n    </tr>\n    <tr>\n      <th>mercury lynx l</th>\n      <td>2125</td>\n      <td>1</td>\n    </tr>\n    <tr>\n      <th>nissan stanza xe</th>\n      <td>2160</td>\n      <td>3</td>\n    </tr>\n    <tr>\n      <th>honda accord</th>\n      <td>2205</td>\n      <td>3</td>\n    </tr>\n    <tr>\n      <th>toyota corolla</th>\n      <td>2245</td>\n      <td>3</td>\n    </tr>\n    <tr>\n      <th>honda civic</th>\n      <td>1965</td>\n      <td>3</td>\n    </tr>\n    <tr>\n      <th>honda civic (auto)</th>\n      <td>1965</td>\n      <td>3</td>\n    </tr>\n    <tr>\n      <th>datsun 310 gx</th>\n      <td>1995</td>\n      <td>3</td>\n    </tr>\n    <tr>\n      <th>buick century limited</th>\n      <td>2945</td>\n      <td>1</td>\n    </tr>\n    <tr>\n      <th>oldsmobile cutlass ciera (diesel)</th>\n      <td>3015</td>\n      <td>1</td>\n    </tr>\n    <tr>\n      <th>chrysler lebaron medallion</th>\n      <td>2585</td>\n      <td>1</td>\n    </tr>\n    <tr>\n      <th>ford granada l</th>\n      <td>2835</td>\n      <td>1</td>\n    </tr>\n    <tr>\n      <th>toyota celica gt</th>\n      <td>2665</td>\n      <td>3</td>\n    </tr>\n    <tr>\n      <th>dodge charger 2.2</th>\n      <td>2370</td>\n      <td>1</td>\n    </tr>\n    <tr>\n      <th>chevrolet camaro</th>\n      <td>2950</td>\n      <td>1</td>\n    </tr>\n    <tr>\n      <th>ford mustang gl</th>\n      <td>2790</td>\n      <td>1</td>\n    </tr>\n    <tr>\n      <th>vw pickup</th>\n      <td>2130</td>\n      <td>2</td>\n    </tr>\n    <tr>\n      <th>dodge rampage</th>\n      <td>2295</td>\n      <td>1</td>\n    </tr>\n    <tr>\n      <th>ford ranger</th>\n      <td>2625</td>\n      <td>1</td>\n    </tr>\n    <tr>\n      <th>chevy s-10</th>\n      <td>2720</td>\n      <td>1</td>\n    </tr>\n  </tbody>\n</table>\n</div>"
          },
          "metadata": {}
        }
      ]
    },
    {
      "cell_type": "code",
      "source": "Auto_re.loc[lambda df:(df['year'] < 300) & (df.index.str.contains('ford') | df.index.str.contains('datsun')),['weight','origin']]",
      "metadata": {
        "trusted": true
      },
      "execution_count": 28,
      "outputs": [
        {
          "execution_count": 28,
          "output_type": "execute_result",
          "data": {
            "text/plain": "                      weight  origin\nname                                \nford torino             3449       1\nford galaxie 500        4341       1\nford maverick           2587       1\ndatsun pl510            2130       3\nford f250               4615       1\n...                      ...     ...\nford fairmont futura    2865       1\ndatsun 310 gx           1995       3\nford granada l          2835       1\nford mustang gl         2790       1\nford ranger             2625       1\n\n[74 rows x 2 columns]",
            "text/html": "<div>\n<style scoped>\n    .dataframe tbody tr th:only-of-type {\n        vertical-align: middle;\n    }\n\n    .dataframe tbody tr th {\n        vertical-align: top;\n    }\n\n    .dataframe thead th {\n        text-align: right;\n    }\n</style>\n<table border=\"1\" class=\"dataframe\">\n  <thead>\n    <tr style=\"text-align: right;\">\n      <th></th>\n      <th>weight</th>\n      <th>origin</th>\n    </tr>\n    <tr>\n      <th>name</th>\n      <th></th>\n      <th></th>\n    </tr>\n  </thead>\n  <tbody>\n    <tr>\n      <th>ford torino</th>\n      <td>3449</td>\n      <td>1</td>\n    </tr>\n    <tr>\n      <th>ford galaxie 500</th>\n      <td>4341</td>\n      <td>1</td>\n    </tr>\n    <tr>\n      <th>ford maverick</th>\n      <td>2587</td>\n      <td>1</td>\n    </tr>\n    <tr>\n      <th>datsun pl510</th>\n      <td>2130</td>\n      <td>3</td>\n    </tr>\n    <tr>\n      <th>ford f250</th>\n      <td>4615</td>\n      <td>1</td>\n    </tr>\n    <tr>\n      <th>...</th>\n      <td>...</td>\n      <td>...</td>\n    </tr>\n    <tr>\n      <th>ford fairmont futura</th>\n      <td>2865</td>\n      <td>1</td>\n    </tr>\n    <tr>\n      <th>datsun 310 gx</th>\n      <td>1995</td>\n      <td>3</td>\n    </tr>\n    <tr>\n      <th>ford granada l</th>\n      <td>2835</td>\n      <td>1</td>\n    </tr>\n    <tr>\n      <th>ford mustang gl</th>\n      <td>2790</td>\n      <td>1</td>\n    </tr>\n    <tr>\n      <th>ford ranger</th>\n      <td>2625</td>\n      <td>1</td>\n    </tr>\n  </tbody>\n</table>\n<p>74 rows × 2 columns</p>\n</div>"
          },
          "metadata": {}
        }
      ]
    },
    {
      "cell_type": "code",
      "source": "",
      "metadata": {},
      "execution_count": null,
      "outputs": []
    }
  ]
}